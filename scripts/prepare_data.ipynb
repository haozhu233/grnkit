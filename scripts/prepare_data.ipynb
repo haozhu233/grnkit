{
 "cells": [
  {
   "cell_type": "code",
   "execution_count": 1,
   "id": "4529c1c9-e6b4-4324-a1b6-93a7c4302167",
   "metadata": {},
   "outputs": [],
   "source": [
    "import numpy as np\n",
    "import pandas as pd\n",
    "import networkx as nx\n",
    "from tqdm import tqdm\n",
    "import anndata as ad\n",
    "from collections import defaultdict\n",
    "from itertools import product"
   ]
  },
  {
   "cell_type": "markdown",
   "id": "4c1751a4-a182-4518-8154-b879bbe38eec",
   "metadata": {},
   "source": [
    "## RegNetwork"
   ]
  },
  {
   "cell_type": "code",
   "execution_count": 55,
   "id": "600febaa-3ed0-4ef8-9f94-e407b70def11",
   "metadata": {},
   "outputs": [],
   "source": [
    "mouse_RN = np.char.upper(\n",
    "    np.genfromtxt('../python/data/RN_mouse.tsv', dtype=str))\n",
    "np.savetxt('../python/data/mouse_RN.tsv', mouse_RN, delimiter='\\t', fmt='%s')\n",
    "\n",
    "human_RN = np.char.upper(\n",
    "    np.genfromtxt('../python/data/RN_human.tsv', dtype=str))\n",
    "np.savetxt('../python/data/human_RN.tsv', human_RN, delimiter='\\t', fmt='%s')\n",
    "\n",
    "mouse_TRRUST = np.char.upper(\n",
    "    np.genfromtxt('../python/data/trrust_mouse.tsv', dtype=str))[:, :2]\n",
    "np.savetxt('../python/data/mouse_TRRUST.tsv', mouse_TRRUST, \n",
    "           delimiter='\\t', fmt='%s')\n",
    "\n",
    "human_TRRUST = np.char.upper(\n",
    "    np.genfromtxt('../python/data/trrust_human.tsv', dtype=str))[:, :2]\n",
    "np.savetxt('../python/data/human_TRRUST.tsv', human_TRRUST, \n",
    "           delimiter='\\t', fmt='%s')\n",
    "\n",
    "mouse_BEELINE = np.char.upper(\n",
    "    np.genfromtxt('../python/data/BEELINE_non_specific_mouse.csv', dtype=str,\n",
    "                 delimiter=',', skip_header=True))\n",
    "np.savetxt('../python/data/mouse_BEELINE.tsv', mouse_BEELINE, \n",
    "           delimiter='\\t', fmt='%s')\n",
    "\n",
    "human_BEELINE = np.char.upper(\n",
    "    np.genfromtxt('../python/data/BEELINE_non_specific_human.csv', dtype=str,\n",
    "                 delimiter=',', skip_header=True))\n",
    "np.savetxt('../python/data/human_BEELINE.tsv', human_BEELINE, \n",
    "           delimiter='\\t', fmt='%s')\n",
    "\n",
    "mouse_STRING = np.char.upper(\n",
    "    np.genfromtxt('../python/data/BEELINE_STRING_mouse.csv', dtype=str,\n",
    "                 delimiter=',', skip_header=True))\n",
    "np.savetxt('../python/data/mouse_STRING.tsv', mouse_STRING, \n",
    "           delimiter='\\t', fmt='%s')\n",
    "\n",
    "human_STRING = np.char.upper(\n",
    "    np.genfromtxt('../python/data/BEELINE_STRING_human.csv', dtype=str,\n",
    "                 delimiter=',', skip_header=True))\n",
    "np.savetxt('../python/data/human_STRING.tsv', human_STRING, \n",
    "           delimiter='\\t', fmt='%s')"
   ]
  },
  {
   "cell_type": "code",
   "execution_count": 17,
   "id": "75bfb9de-f603-46e5-ad0d-2dcfa5dce45b",
   "metadata": {},
   "outputs": [
    {
     "name": "stdout",
     "output_type": "stream",
     "text": [
      "# of Non-connected nodes: 0\n"
     ]
    }
   ],
   "source": [
    "with open('../data/networks/mouse/RegNetwork/mouse.node', 'r') as f:\n",
    "    mouse_nodes = [x.rstrip() for x in f.readlines()]\n",
    "with open('../data/networks/mouse/RegNetwork/mouse.source', 'r') as f:\n",
    "    mouse_links = [x.rstrip() for x in f.readlines()]\n",
    "    \n",
    "RN_gene_dict = {x.split('\\t')[1]: -1 for x in mouse_nodes}\n",
    "RN_link_list = []\n",
    "for link in mouse_links:\n",
    "    gene_1, gene_1_code, gene_2, gene_2_code = link.split('\\t')\n",
    "    if RN_gene_dict[gene_1] == -1:\n",
    "        RN_gene_dict[gene_1] = gene_1_code\n",
    "    if RN_gene_dict[gene_2] == -1:\n",
    "        RN_gene_dict[gene_2] = gene_2_code\n",
    "    RN_link_list.append([gene_1, gene_2]) \n",
    "    \n",
    "non_connected_node_count = 0\n",
    "for x in RN_gene_dict.keys():\n",
    "    if RN_gene_dict[x] == -1:\n",
    "        non_connected_node_count += 1\n",
    "print('# of Non-connected nodes: ' + str(non_connected_node_count))\n",
    "\n",
    "g = nx.Graph()\n",
    "for e in RN_link_list:\n",
    "    g.add_edge(e[0], e[1])"
   ]
  },
  {
   "cell_type": "code",
   "execution_count": 18,
   "id": "0fa5832e-fe36-48a5-b875-f391ee653318",
   "metadata": {},
   "outputs": [],
   "source": [
    "import pickle"
   ]
  },
  {
   "cell_type": "code",
   "execution_count": 19,
   "id": "c5d70f84-8902-4fc6-971d-c601056b0103",
   "metadata": {},
   "outputs": [],
   "source": [
    "with open('g', 'wb') as f:\n",
    "    pickle.dump(g, f)"
   ]
  },
  {
   "cell_type": "code",
   "execution_count": 43,
   "id": "0bc78dea-2611-4df2-b74d-9c80a08e9b4d",
   "metadata": {},
   "outputs": [],
   "source": [
    "aaa = np.genfromtxt('../python/data/RN_mouse.tsv', dtype=str)"
   ]
  },
  {
   "cell_type": "code",
   "execution_count": null,
   "id": "471cb8e9-4583-43ca-a34b-d9b95ee9de30",
   "metadata": {},
   "outputs": [],
   "source": [
    "aaa."
   ]
  },
  {
   "cell_type": "markdown",
   "id": "c0439533-9824-49f3-89b5-50b24ce66faf",
   "metadata": {},
   "source": [
    "## GSE70499"
   ]
  },
  {
   "cell_type": "code",
   "execution_count": 92,
   "id": "aaaa6671-06a2-4481-b833-dd5e64315edf",
   "metadata": {},
   "outputs": [],
   "source": [
    "import urllib\n",
    "import gzip\n",
    "import os\n",
    "import shutil\n",
    "import numpy as np\n",
    "import anndata as ad\n",
    "from itertools import product\n",
    "import pickle\n",
    "\n",
    "# Load existing network data. \n",
    "def load_network(species, benchmark):\n",
    "    return np.genfromtxt('data/{}_{}.tsv'.format(species, benchmark), dtype=str)\n",
    "\n",
    "# General util functions to download raw data from GEO. \n",
    "def get_geo_url(gse_id, file_name):\n",
    "    geo_url = 'https://www.ncbi.nlm.nih.gov/geo/download/?'\n",
    "    param = {'acc': gse_id, 'format':'file', 'file': file_name}\n",
    "    return geo_url + urllib.parse.urlencode(param, quote_via=urllib.parse.quote)\n",
    "\n",
    "def download_geo(dir_path, gse_id, file_name):\n",
    "    print('Downloading file from ' + gse_id, '...')\n",
    "    download_url = get_geo_url(gse_id, file_name)\n",
    "    local_gz_path = os.path.join(dir_path, file_name)\n",
    "    local_file_path = os.path.join(dir_path, file_name.rstrip('.gz'))\n",
    "                                   \n",
    "    urllib.request.urlretrieve(download_url, local_gz_path)\n",
    "    \n",
    "    with gzip.open(local_gz_path, 'rb') as f_in:\n",
    "        with open(local_file_path, 'wb') as f_out:\n",
    "            shutil.copyfileobj(f_in, f_out)\n",
    "            \n",
    "    return local_file_path\n",
    "\n",
    "def build_initial_ground_truth(g2g, species, bm):\n",
    "    original_bm_links = load_network(species, bm)\n",
    "    links = []\n",
    "    for link in original_bm_links:\n",
    "        if link[0] in g2g and link[1] in g2g:\n",
    "            for gene_id_pair in product(g2g[link[0]], g2g[link[1]]):\n",
    "                    links.append(gene_id_pair)\n",
    "    return links\n",
    "\n",
    "class BenchmarkData(ad.AnnData):\n",
    "    def __init__(self, X=None):\n",
    "        super().__init__(X=X, dtype=X.dtype)\n",
    "        \n",
    "    def update_gene_meta(self):\n",
    "        if len(self.uns['gene_dict']) != self.n_vars:\n",
    "            self.uns['gene_dict'] = {\n",
    "                k: self.uns['gene_dict'][k] for k in self.var_names}\n",
    "            self.update_gene_name2id()\n",
    "            \n",
    "    def update_gene_name2id(self):\n",
    "        name2id = {}\n",
    "        for gene_id in self.uns['gene_dict']:\n",
    "            gene_name = self.uns['gene_dict'][gene_id]['gene_name']\n",
    "            if gene_name not in name2id:\n",
    "                name2id[gene_name] = []\n",
    "            name2id[gene_name].append(gene_id)\n",
    "        self.uns['gene_name2id'] = name2id\n",
    "        \n",
    "    def get_ground_truth(self, bm):\n",
    "        self.update_gene_meta()\n",
    "        updated_links = []\n",
    "        g2g = self.uns['genename_to_geneid']\n",
    "        for link in self.uns[bm]:\n",
    "            if link[0] in g2g and link[1] in g2g:\n",
    "                for gene_id_pair in product(g2g[link[0]], g2g[link[1]]):\n",
    "                    updated_links.append(gene_id_pair)\n",
    "        return updated_links\n",
    "\n",
    "# load benchmarks\n",
    "def load_gse_70499(dir_path, force_reload=False):\n",
    "    gse_id = 'GSE70499'\n",
    "    file_name = 'GSE70499_FINAL_master_list_of_genes_counts_MIN.sense.George_WT_v_KO_timecourse.txt'\n",
    "    dir_path = os.path.join(dir_path, gse_id)\n",
    "    processed_file_path = os.path.join(dir_path, gse_id+'.pkl')\n",
    "    \n",
    "    if not os.path.exists(dir_path):\n",
    "        os.mkdir(dir_path)\n",
    "        \n",
    "    if os.path.exists(processed_file_path) and force_reload==False:\n",
    "        print('Loading from processed file...')\n",
    "        with open(processed_file_path, 'rb') as f:\n",
    "            dt = pickle.load(f)\n",
    "        return dt\n",
    "    \n",
    "    raw_file = download_geo(dir_path, gse_id, file_name)\n",
    "    \n",
    "    print('Processing...')\n",
    "    raw = pd.read_csv(raw_file, sep='\\t')\n",
    "    \n",
    "    raw.id = raw.id.str.replace('gene:', '')\n",
    "    raw.geneSymbol = raw.geneSymbol.str.upper()\n",
    "\n",
    "    gene_dict = {}\n",
    "    for i in range(raw.shape[0]):\n",
    "        gene_dict[raw.id[i]] = {\n",
    "            'gene_name': raw.geneSymbol[i],\n",
    "            'in_regnetwork': (raw.geneSymbol[i] in RN_gene_dict),\n",
    "            'geneCoordinate': raw.geneCoordinate[i],\n",
    "        }\n",
    "\n",
    "    del raw['geneSymbol']\n",
    "    del raw['geneCoordinate']\n",
    "\n",
    "    dt = raw.set_index('id').transpose().reset_index()\n",
    "    dt_meta_ids = dt['index']\n",
    "    dt_meta = dt_meta_ids.str.split('_', expand=True)\n",
    "    del dt['index']\n",
    "    dt_array = dt.to_numpy()\n",
    "\n",
    "    ad_dt = BenchmarkData(dt_array)\n",
    "    ad_dt.var_names = np.array(dt.columns, dtype=str)\n",
    "    ad_dt.obs_names = dt_meta[2].to_numpy()\n",
    "    ad_dt.obs['genotype'] = pd.Categorical(dt_meta[0])\n",
    "    ad_dt.obs['timepoint'] = pd.Categorical(\n",
    "        dt_meta[1].str.replace('ZT', '').to_numpy(dtype=int)\n",
    "    )\n",
    "    ad_dt.uns['gene_dict'] = gene_dict\n",
    "    ad_dt.update_gene_name2id()\n",
    "    \n",
    "    print('Adding benchmarks...')\n",
    "    ad_dt.uns['benchmark_RN'] = build_initial_ground_truth(\n",
    "        ad_dt.uns['genename_to_geneid'], 'mouse', 'RN'\n",
    "    )\n",
    "    ad_dt.uns['benchmark_TRRUST'] = build_initial_ground_truth(\n",
    "        ad_dt.uns['genename_to_geneid'], 'mouse', 'TRRUST'\n",
    "    )\n",
    "    ad_dt.uns['benchmark_BEELINE'] = build_initial_ground_truth(\n",
    "        ad_dt.uns['genename_to_geneid'], 'mouse', 'BEELINE'\n",
    "    )\n",
    "    ad_dt.uns['benchmark_STRING'] = build_initial_ground_truth(\n",
    "        ad_dt.uns['genename_to_geneid'], 'mouse', 'STRING'\n",
    "    )\n",
    "    with open(processed_file_path, 'wb') as f:\n",
    "        pickle.dump(ad_dt, f)\n",
    "    print('Complete!)\n",
    "    return ad_dt"
   ]
  },
  {
   "cell_type": "code",
   "execution_count": null,
   "id": "a50476e9-3372-4a7b-84e6-a2c2f0bd1fbd",
   "metadata": {},
   "outputs": [],
   "source": []
  },
  {
   "cell_type": "code",
   "execution_count": 85,
   "id": "866c4172-aeee-4920-9b5d-3ae21f8904e5",
   "metadata": {},
   "outputs": [
    {
     "name": "stderr",
     "output_type": "stream",
     "text": [
      "/var/folders/5y/kp71x6qd2pv5yn83_d_szkgc0000gn/T/ipykernel_4662/3726756766.py:1: FutureWarning: X.dtype being converted to np.float32 from float64. In the next version of anndata (0.9) conversion will not be automatic. Pass dtype explicitly to avoid this warning. Pass `AnnData(X, dtype=X.dtype, ...)` to get the future behavour.\n",
      "  aaa = ad.AnnData(np.zeros((10, 10)))\n"
     ]
    }
   ],
   "source": [
    "aaa = ad.AnnData(np.zeros((10, 10)))"
   ]
  },
  {
   "cell_type": "code",
   "execution_count": 86,
   "id": "a589c9b1-1ed7-4162-bbd6-74979c87dc56",
   "metadata": {},
   "outputs": [
    {
     "data": {
      "text/plain": [
       "10"
      ]
     },
     "execution_count": 86,
     "metadata": {},
     "output_type": "execute_result"
    }
   ],
   "source": [
    "aaa.n_vars"
   ]
  },
  {
   "cell_type": "code",
   "execution_count": 6,
   "id": "99845700-129c-4d64-a0e7-c0041d51d672",
   "metadata": {},
   "outputs": [],
   "source": [
    "raw = pd.read_csv('../data/expression/GSE70499/GSE70499_FINAL_master_list_of_genes_counts_MIN.sense.George_WT_v_KO_timecourse.txt', sep='\\t')\n",
    "\n",
    "gene_dict = {}\n",
    "for i in range(raw.shape[0]):\n",
    "    gene_dict[raw.id[i]] = {\n",
    "        'gene_name': raw.geneSymbol[i],\n",
    "        'in_regnetwork': (raw.geneSymbol[i] in RN_gene_dict),\n",
    "        'geneCoordinate': raw.geneCoordinate[i],\n",
    "    }\n",
    "    \n",
    "del raw['geneSymbol']\n",
    "del raw['geneCoordinate']\n",
    "\n",
    "dt = raw.set_index('id').transpose().reset_index()\n",
    "dt_meta = dt['index'].str.split('_', expand=True)\n",
    "del dt['index']\n",
    "dt_array = dt.to_numpy()\n",
    "\n",
    "GSE70499_genename_to_geneid = defaultdict(list)\n",
    "for gene_id in gene_dict:\n",
    "    GSE70499_genename_to_geneid[gene_dict[gene_id]['gene_name']].append(gene_id)\n",
    "    \n",
    "GSE70499_links = []\n",
    "for link in RN_link_list:\n",
    "    if link[0] in GSE70499_genename_to_geneid and link[1] in GSE70499_genename_to_geneid:\n",
    "        for gene_id_pair in product(GSE70499_genename_to_geneid[link[0]], GSE70499_genename_to_geneid[link[1]]):\n",
    "            GSE70499_links.append(gene_id_pair)\n",
    "\n",
    "GSE70499 = ad.AnnData(dt_array, dtype=int)\n",
    "GSE70499.var_names = np.array(dt.columns, dtype=str)\n",
    "GSE70499.obs_names = dt_meta[2].to_numpy()\n",
    "GSE70499.obs['genotype'] = pd.Categorical(dt_meta[0])\n",
    "GSE70499.obs['timepoint'] = pd.Categorical(\n",
    "    dt_meta[1].str.replace('ZT', '').to_numpy(dtype=int)\n",
    ")\n",
    "GSE70499.uns['ground_truth'] = GSE70499_links\n",
    "\n",
    "GSE70499.write_h5ad('../data/expression_processed/GSE70499.h5ad')"
   ]
  },
  {
   "cell_type": "markdown",
   "id": "6c69511d-3573-4ec7-9426-2207d9d93306",
   "metadata": {},
   "source": [
    "## GSE73554"
   ]
  },
  {
   "cell_type": "code",
   "execution_count": 33,
   "id": "9d188f01-4489-45b1-9d41-ab2be217b07e",
   "metadata": {},
   "outputs": [],
   "source": [
    "raw_ko = pd.read_csv('../data/expression/GSE73554/GSE73554_KO_RF_Intron_Exon_RFP.txt', sep='\\t')\n",
    "raw_wt = pd.read_csv('../data/expression/GSE73554/GSE73554_WT_RF_Intron_Exon_RFP.txt', sep='\\t')\n"
   ]
  },
  {
   "cell_type": "code",
   "execution_count": 34,
   "id": "37613686-9253-4ba0-a177-973519e05c58",
   "metadata": {},
   "outputs": [],
   "source": [
    "gene_dict = {}\n",
    "for i in range(raw_ko.shape[0]):\n",
    "    gene_dict[raw_ko.Gene_Ensembl[i]] = {\n",
    "        'gene_name': raw_ko.Gene_Symbol[i],\n",
    "        'in_regnetwork': (raw_ko.Gene_Symbol[i] in RN_gene_dict),\n",
    "    }\n",
    "    \n",
    "del raw_ko['Gene_Symbol']\n",
    "del raw_wt['Gene_Symbol']\n",
    "\n",
    "raw = pd.merge(raw_ko, raw_wt, 'left', 'Gene_Ensembl')"
   ]
  },
  {
   "cell_type": "code",
   "execution_count": 41,
   "id": "51e4551a-4dbb-451b-aab7-9db301d4e6e1",
   "metadata": {},
   "outputs": [],
   "source": [
    "dt = raw.set_index('Gene_Ensembl').transpose().reset_index()\n",
    "dt_meta_names = dt['index']\n",
    "dt_meta = dt_meta_names.str.split('_', expand=True)\n",
    "del dt['index']\n",
    "dt_array = dt.to_numpy()"
   ]
  },
  {
   "cell_type": "code",
   "execution_count": 38,
   "id": "297f93e7-d78b-4e1c-9acf-db27a392b867",
   "metadata": {},
   "outputs": [],
   "source": [
    "GSE73554_genename_to_geneid = defaultdict(list)\n",
    "for gene_id in gene_dict:\n",
    "    GSE73554_genename_to_geneid[gene_dict[gene_id]['gene_name']].append(gene_id)"
   ]
  },
  {
   "cell_type": "code",
   "execution_count": 39,
   "id": "18f5b52b-4258-4548-b4f0-10813fc1da58",
   "metadata": {},
   "outputs": [],
   "source": [
    "GSE73554_links = []\n",
    "for link in RN_link_list:\n",
    "    if link[0] in GSE73554_genename_to_geneid and link[1] in GSE73554_genename_to_geneid:\n",
    "        for gene_id_pair in product(GSE73554_genename_to_geneid[link[0]], GSE73554_genename_to_geneid[link[1]]):\n",
    "            GSE73554_links.append(gene_id_pair)"
   ]
  },
  {
   "cell_type": "code",
   "execution_count": 47,
   "id": "4fbd329d-eb5f-4de2-9d98-049e85bc283c",
   "metadata": {},
   "outputs": [
    {
     "name": "stderr",
     "output_type": "stream",
     "text": [
      "/var/folders/5y/kp71x6qd2pv5yn83_d_szkgc0000gn/T/ipykernel_73943/1088005164.py:1: FutureWarning: X.dtype being converted to np.float32 from float64. In the next version of anndata (0.9) conversion will not be automatic. Pass dtype explicitly to avoid this warning. Pass `AnnData(X, dtype=X.dtype, ...)` to get the future behavour.\n",
      "  GSE73554 = ad.AnnData(dt_array)\n"
     ]
    }
   ],
   "source": [
    "GSE73554 = ad.AnnData(dt_array)\n",
    "GSE73554.var_names = np.array(dt.columns, dtype=str)\n",
    "GSE73554.obs_names = dt_meta_names.to_numpy()\n",
    "GSE73554.obs['genotype'] = pd.Categorical(dt_meta[0])\n",
    "GSE73554.obs['genosite'] = pd.Categorical(dt_meta[2])\n",
    "\n",
    "GSE73554.obs['timepoint'] = pd.Categorical(\n",
    "    dt_meta[3].to_numpy(dtype=int)\n",
    ")\n",
    "GSE73554.obs['sample'] = pd.Categorical(dt_meta[4])\n",
    "GSE73554.uns['ground_truth'] = GSE73554_links\n",
    "\n",
    "GSE73554.write_h5ad('../data/expression_processed/GSE73554.h5ad')"
   ]
  },
  {
   "cell_type": "code",
   "execution_count": 46,
   "id": "aa0ecdc3-32fc-417c-b144-55a23dcd7b4e",
   "metadata": {},
   "outputs": [
    {
     "data": {
      "text/plain": [
       "AnnData object with n_obs × n_vars = 108 × 13480\n",
       "    obs: 'genotype', 'genosite', 'timepoint', 'sample'\n",
       "    uns: 'ground_truth'"
      ]
     },
     "execution_count": 46,
     "metadata": {},
     "output_type": "execute_result"
    }
   ],
   "source": [
    "GSE73554"
   ]
  },
  {
   "cell_type": "code",
   "execution_count": null,
   "id": "cda88a3f-4682-4c4f-8420-155d1898acc5",
   "metadata": {},
   "outputs": [],
   "source": []
  }
 ],
 "metadata": {
  "kernelspec": {
   "display_name": "grn",
   "language": "python",
   "name": "grn"
  },
  "language_info": {
   "codemirror_mode": {
    "name": "ipython",
    "version": 3
   },
   "file_extension": ".py",
   "mimetype": "text/x-python",
   "name": "python",
   "nbconvert_exporter": "python",
   "pygments_lexer": "ipython3",
   "version": "3.10.4"
  }
 },
 "nbformat": 4,
 "nbformat_minor": 5
}

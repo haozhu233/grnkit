{
 "cells": [
  {
   "cell_type": "code",
   "execution_count": 1,
   "id": "cbdc5121-0628-40e0-842a-e5f1c074d29d",
   "metadata": {},
   "outputs": [],
   "source": [
    "from grnkit.data import Dream4MultifactorialDataset, Dream4TimeseriesDataset\n",
    "from grnkit.evaluate import evaluate"
   ]
  },
  {
   "cell_type": "code",
   "execution_count": 2,
   "id": "7286aa2d-4a7f-4795-83b4-26674ec3804f",
   "metadata": {
    "tags": []
   },
   "outputs": [
    {
     "name": "stdout",
     "output_type": "stream",
     "text": [
      "===========================================\n",
      "Evaluating on Dream4 timeseries size 10 network 1\n",
      "Tree method: RF\n",
      "K: sqrt\n",
      "Number of trees: 1000\n",
      "alpha min: 0.0020396545324423386\n",
      "alpha max: 0.03037474760181057\n",
      "\n",
      "\n",
      "running jobs on 12 threads\n"
     ]
    },
    {
     "name": "stderr",
     "output_type": "stream",
     "text": [
      "100%|███████████████████████████████████████████| 10/10 [00:01<00:00,  5.97it/s]"
     ]
    },
    {
     "name": "stdout",
     "output_type": "stream",
     "text": [
      "Elapsed time: 1.84 seconds\n",
      "AUROC:0.7841   AUPRC:0.4103\n",
      "===========================================\n",
      "Evaluating on Dream4 timeseries size 10 network 2\n",
      "Tree method: RF\n",
      "K: sqrt\n",
      "Number of trees: 1000\n",
      "alpha min: 0.0020967827813428166\n",
      "alpha max: 0.024626784047133823\n",
      "\n",
      "\n",
      "running jobs on 12 threads\n"
     ]
    },
    {
     "name": "stderr",
     "output_type": "stream",
     "text": [
      "\n",
      "100%|███████████████████████████████████████████| 10/10 [00:01<00:00,  6.27it/s]"
     ]
    },
    {
     "name": "stdout",
     "output_type": "stream",
     "text": [
      "Elapsed time: 1.71 seconds\n",
      "AUROC:0.7129   AUPRC:0.3014\n",
      "===========================================\n",
      "Evaluating on Dream4 timeseries size 10 network 3\n",
      "Tree method: RF\n",
      "K: sqrt\n",
      "Number of trees: 1000\n",
      "alpha min: 0.002610562582322996\n",
      "alpha max: 0.017931405886583738\n",
      "\n",
      "\n",
      "running jobs on 12 threads\n"
     ]
    },
    {
     "name": "stderr",
     "output_type": "stream",
     "text": [
      "\n",
      "100%|███████████████████████████████████████████| 10/10 [00:01<00:00,  6.74it/s]"
     ]
    },
    {
     "name": "stdout",
     "output_type": "stream",
     "text": [
      "Elapsed time: 1.68 seconds\n",
      "AUROC:0.7633   AUPRC:0.5239\n",
      "===========================================\n",
      "Evaluating on Dream4 timeseries size 10 network 4\n",
      "Tree method: RF\n",
      "K: sqrt\n",
      "Number of trees: 1000\n",
      "alpha min: 0.004540362009583615\n",
      "alpha max: 0.02816880073456586\n",
      "\n",
      "\n",
      "running jobs on 12 threads\n"
     ]
    },
    {
     "name": "stderr",
     "output_type": "stream",
     "text": [
      "\n",
      "100%|███████████████████████████████████████████| 10/10 [00:01<00:00,  6.22it/s]"
     ]
    },
    {
     "name": "stdout",
     "output_type": "stream",
     "text": [
      "Elapsed time: 1.70 seconds\n",
      "AUROC:0.7528   AUPRC:0.3589\n",
      "===========================================\n",
      "Evaluating on Dream4 timeseries size 10 network 5\n",
      "Tree method: RF\n",
      "K: sqrt\n",
      "Number of trees: 1000\n",
      "alpha min: 0.0030281038947287797\n",
      "alpha max: 0.020860125606770804\n",
      "\n",
      "\n",
      "running jobs on 12 threads\n"
     ]
    },
    {
     "name": "stderr",
     "output_type": "stream",
     "text": [
      "\n",
      "100%|███████████████████████████████████████████| 10/10 [00:01<00:00,  6.69it/s]"
     ]
    },
    {
     "name": "stdout",
     "output_type": "stream",
     "text": [
      "Elapsed time: 1.66 seconds\n",
      "AUROC:0.9009   AUPRC:0.8014\n"
     ]
    },
    {
     "name": "stderr",
     "output_type": "stream",
     "text": [
      "\n"
     ]
    }
   ],
   "source": [
    "import numpy as np\n",
    "from grnkit.ts.dynGENIE3 import dynGENIE3\n",
    "\n",
    "dream4_timeseries_s10_results = []\n",
    "for i in [1, 2, 3, 4, 5]:\n",
    "    print(\"===========================================\")\n",
    "    print(\"Evaluating on Dream4 timeseries size 10 network \" + str(i))\n",
    "    dt = Dream4TimeseriesDataset(size=10, network=i)\n",
    "    vim, alphas, prediction_score, stability_score, treeEstimators = dynGENIE3(dt.expression_data, dt.time_stamps, nthreads=12)\n",
    "    y_pred = np.array([score[1] for score in np.ndenumerate(vim)])\n",
    "    dream4_timeseries_s10_results.append(evaluate(dt.gold_standard, y_pred))"
   ]
  },
  {
   "cell_type": "code",
   "execution_count": 3,
   "id": "d5c300f1-2115-4c32-b256-ba5ec9ad9e0f",
   "metadata": {},
   "outputs": [
    {
     "name": "stdout",
     "output_type": "stream",
     "text": [
      "===========================================\n",
      "Evaluating on Dream4 timeseries size 100 network 1\n",
      "Tree method: RF\n",
      "K: sqrt\n",
      "Number of trees: 1000\n",
      "alpha min: 0.002064739309141078\n",
      "alpha max: 0.043314446925369475\n",
      "\n",
      "\n",
      "running jobs on 12 threads\n"
     ]
    },
    {
     "name": "stderr",
     "output_type": "stream",
     "text": [
      "100%|█████████████████████████████████████████| 100/100 [00:17<00:00,  5.86it/s]"
     ]
    },
    {
     "name": "stdout",
     "output_type": "stream",
     "text": [
      "Elapsed time: 17.20 seconds\n",
      "AUROC:0.7806   AUPRC:0.1692\n",
      "===========================================\n",
      "Evaluating on Dream4 timeseries size 100 network 2\n",
      "Tree method: RF\n",
      "K: sqrt\n",
      "Number of trees: 1000\n",
      "alpha min: 0.0020152490856665487\n",
      "alpha max: 0.08307640473148403\n",
      "\n",
      "\n",
      "running jobs on 12 threads\n"
     ]
    },
    {
     "name": "stderr",
     "output_type": "stream",
     "text": [
      "\n",
      "100%|█████████████████████████████████████████| 100/100 [00:16<00:00,  6.04it/s]"
     ]
    },
    {
     "name": "stdout",
     "output_type": "stream",
     "text": [
      "Elapsed time: 16.64 seconds\n",
      "AUROC:0.6787   AUPRC:0.0871\n",
      "===========================================\n",
      "Evaluating on Dream4 timeseries size 100 network 3\n",
      "Tree method: RF\n",
      "K: sqrt\n",
      "Number of trees: 1000\n",
      "alpha min: 0.0019191903441604337\n",
      "alpha max: 0.18797536494403794\n",
      "\n",
      "\n",
      "running jobs on 12 threads\n"
     ]
    },
    {
     "name": "stderr",
     "output_type": "stream",
     "text": [
      "\n",
      "100%|█████████████████████████████████████████| 100/100 [00:16<00:00,  5.95it/s]"
     ]
    },
    {
     "name": "stdout",
     "output_type": "stream",
     "text": [
      "Elapsed time: 16.89 seconds\n",
      "AUROC:0.7423   AUPRC:0.1613\n",
      "===========================================\n",
      "Evaluating on Dream4 timeseries size 100 network 4\n",
      "Tree method: RF\n",
      "K: sqrt\n",
      "Number of trees: 1000\n",
      "alpha min: 0.002970074592348377\n",
      "alpha max: 0.05857580785450727\n",
      "\n",
      "\n",
      "running jobs on 12 threads\n"
     ]
    },
    {
     "name": "stderr",
     "output_type": "stream",
     "text": [
      "\n",
      "100%|█████████████████████████████████████████| 100/100 [00:16<00:00,  5.90it/s]"
     ]
    },
    {
     "name": "stdout",
     "output_type": "stream",
     "text": [
      "Elapsed time: 17.03 seconds\n",
      "AUROC:0.7278   AUPRC:0.1512\n",
      "===========================================\n",
      "Evaluating on Dream4 timeseries size 100 network 5\n",
      "Tree method: RF\n",
      "K: sqrt\n",
      "Number of trees: 1000\n",
      "alpha min: 0.001939811972903062\n",
      "alpha max: 0.06765717432368144\n",
      "\n",
      "\n",
      "running jobs on 12 threads\n"
     ]
    },
    {
     "name": "stderr",
     "output_type": "stream",
     "text": [
      "\n",
      "100%|█████████████████████████████████████████| 100/100 [00:16<00:00,  5.98it/s]"
     ]
    },
    {
     "name": "stdout",
     "output_type": "stream",
     "text": [
      "Elapsed time: 16.83 seconds\n",
      "AUROC:0.7716   AUPRC:0.1130\n"
     ]
    },
    {
     "name": "stderr",
     "output_type": "stream",
     "text": [
      "\n"
     ]
    }
   ],
   "source": [
    "dream4_timeseries_s100_results = []\n",
    "for i in [1, 2, 3, 4, 5]:\n",
    "    print(\"===========================================\")\n",
    "    print(\"Evaluating on Dream4 timeseries size 100 network \" + str(i))\n",
    "    dt = Dream4TimeseriesDataset(size=100, network=i)\n",
    "    vim, alphas, prediction_score, stability_score, treeEstimators = dynGENIE3(dt.expression_data, dt.time_stamps, nthreads=12)\n",
    "    y_pred = np.array([score[1] for score in np.ndenumerate(vim)])\n",
    "    dream4_timeseries_s100_results.append(evaluate(dt.gold_standard, y_pred))"
   ]
  },
  {
   "cell_type": "code",
   "execution_count": 4,
   "id": "1ee0a6f2-e67b-4de0-b6d9-13b33a3eadda",
   "metadata": {
    "tags": []
   },
   "outputs": [
    {
     "name": "stdout",
     "output_type": "stream",
     "text": [
      "===========================================\n",
      "Evaluating on Dream4 multifactoria network 1\n",
      "Tree method: RF\n",
      "K: sqrt\n",
      "Number of trees: 1000\n",
      "\n",
      "\n",
      "running jobs on 12 threads\n",
      "Elapsed time: 10.99 seconds\n",
      "AUROC:0.7541   AUPRC:0.1462\n",
      "===========================================\n",
      "Evaluating on Dream4 multifactoria network 2\n",
      "Tree method: RF\n",
      "K: sqrt\n",
      "Number of trees: 1000\n",
      "\n",
      "\n",
      "running jobs on 12 threads\n",
      "Elapsed time: 11.06 seconds\n",
      "AUROC:0.7276   AUPRC:0.1540\n",
      "===========================================\n",
      "Evaluating on Dream4 multifactoria network 3\n",
      "Tree method: RF\n",
      "K: sqrt\n",
      "Number of trees: 1000\n",
      "\n",
      "\n",
      "running jobs on 12 threads\n",
      "Elapsed time: 10.93 seconds\n",
      "AUROC:0.7719   AUPRC:0.2362\n",
      "===========================================\n",
      "Evaluating on Dream4 multifactoria network 4\n",
      "Tree method: RF\n",
      "K: sqrt\n",
      "Number of trees: 1000\n",
      "\n",
      "\n",
      "running jobs on 12 threads\n",
      "Elapsed time: 11.05 seconds\n",
      "AUROC:0.7984   AUPRC:0.2105\n",
      "===========================================\n",
      "Evaluating on Dream4 multifactoria network 5\n",
      "Tree method: RF\n",
      "K: sqrt\n",
      "Number of trees: 1000\n",
      "\n",
      "\n",
      "running jobs on 12 threads\n",
      "Elapsed time: 11.17 seconds\n",
      "AUROC:0.7932   AUPRC:0.1947\n"
     ]
    }
   ],
   "source": [
    "import numpy as np\n",
    "from grnkit.ss.GENIE3 import GENIE3\n",
    "\n",
    "dream4_mf_s100_results = []\n",
    "\n",
    "for i in [1, 2, 3, 4, 5]:\n",
    "    print(\"===========================================\")\n",
    "    print(\"Evaluating on Dream4 multifactoria network \" + str(i))\n",
    "    dt = Dream4MultifactorialDataset(network=i)\n",
    "    vim = GENIE3(dt.expression_data, nthreads=12)\n",
    "    y_pred = np.array([score[1] for score in np.ndenumerate(vim)])\n",
    "    dream4_mf_s100_results.append(evaluate(dt.gold_standard, y_pred))"
   ]
  },
  {
   "cell_type": "code",
   "execution_count": 5,
   "id": "5be356f5-9c96-444d-850f-89bda1bd8a65",
   "metadata": {},
   "outputs": [],
   "source": [
    "import pandas as pd\n",
    "def save_results(results, title):\n",
    "    aupr = [x['AUPRC'] for x in results]\n",
    "    auroc = [x['AUROC'] for x in results]\n",
    "    results_dt = pd.DataFrame({'aupr': aupr, 'auroc': auroc})\n",
    "    results_dt.to_csv(title)"
   ]
  },
  {
   "cell_type": "code",
   "execution_count": 8,
   "id": "7839b54c-56e5-4096-910f-9925ea88fd8b",
   "metadata": {},
   "outputs": [],
   "source": [
    "save_results(dream4_mf_s100_results, 'd4_mf_s100.csv')"
   ]
  },
  {
   "cell_type": "code",
   "execution_count": 9,
   "id": "f2ecbde8-c7a8-41ab-a61b-1eca6b42ee08",
   "metadata": {},
   "outputs": [],
   "source": [
    "from operator import itemgetter"
   ]
  },
  {
   "cell_type": "code",
   "execution_count": 6,
   "id": "71e79101-3346-4b97-a9b4-8e3d806ada4f",
   "metadata": {},
   "outputs": [],
   "source": [
    "input_idx = range(10)"
   ]
  },
  {
   "cell_type": "code",
   "execution_count": 7,
   "id": "6c3e0ac3-652b-4b51-9408-e1df0089d91e",
   "metadata": {},
   "outputs": [],
   "source": [
    "vInter = [(i,j,score) for (i,j),score in np.ndenumerate(vim) if i in input_idx and i!=j]"
   ]
  },
  {
   "cell_type": "code",
   "execution_count": 10,
   "id": "1bb21fe2-538a-496d-89cb-7b27c2c1bf8e",
   "metadata": {},
   "outputs": [],
   "source": [
    "vInter_sort = sorted(vInter,key=itemgetter(2),reverse=True)\n",
    "nInter = len(vInter_sort)"
   ]
  },
  {
   "cell_type": "code",
   "execution_count": 17,
   "id": "1de00dd1-3fa0-45df-9ce1-54a7d20458e8",
   "metadata": {},
   "outputs": [
    {
     "data": {
      "text/plain": [
       "[(8, 0, 0.043643727220213334),\n",
       " (9, 0, 0.04330010671723915),\n",
       " (8, 4, 0.040977940334939816),\n",
       " (3, 1, 0.03951024147037491),\n",
       " (9, 4, 0.03877744138933679),\n",
       " (5, 0, 0.038370892422249364),\n",
       " (2, 4, 0.036050926823638946),\n",
       " (9, 7, 0.03347950479095249),\n",
       " (3, 7, 0.025728419542370047),\n",
       " (2, 7, 0.025712148521473646)]"
      ]
     },
     "execution_count": 17,
     "metadata": {},
     "output_type": "execute_result"
    }
   ],
   "source": [
    "vInter_sort[80:]"
   ]
  },
  {
   "cell_type": "code",
   "execution_count": null,
   "id": "c7397826-1f63-431f-9adc-cef959bb0cb2",
   "metadata": {},
   "outputs": [],
   "source": []
  }
 ],
 "metadata": {
  "kernelspec": {
   "display_name": "grn",
   "language": "python",
   "name": "grn"
  },
  "language_info": {
   "codemirror_mode": {
    "name": "ipython",
    "version": 3
   },
   "file_extension": ".py",
   "mimetype": "text/x-python",
   "name": "python",
   "nbconvert_exporter": "python",
   "pygments_lexer": "ipython3",
   "version": "3.10.4"
  }
 },
 "nbformat": 4,
 "nbformat_minor": 5
}

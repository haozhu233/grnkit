{
 "cells": [
  {
   "cell_type": "code",
   "execution_count": 1,
   "id": "ad5a2e06-6375-4bb8-8bda-d9cef51c6bbf",
   "metadata": {},
   "outputs": [],
   "source": [
    "import grnkit"
   ]
  },
  {
   "cell_type": "code",
   "execution_count": 4,
   "id": "1283f6c1-5f75-476c-9936-72f1d915a3c4",
   "metadata": {},
   "outputs": [
    {
     "name": "stdout",
     "output_type": "stream",
     "text": [
      "['--path', '../python/grnkit/data/sim_source/dyn-bifurcating.txt', '--ics', '../python/grnkit/data/sim_source/dyn-bifurcating_ics.txt', '--max-time', '20', '--num-cells', '10', '--timesteps', '100', '--outPrefix', 'test_boolode', '--do-parallel']\n",
      "  Gene                        Rule\n",
      "0   g1               not(g4 or g6)\n",
      "1   g2                          g1\n",
      "2   g3                          g2\n",
      "3   g4   ((g3 or g4) and (not g6))\n",
      "4   g6  ((g6 or g3) and (not(g4)))\n",
      "5   g7                          g4\n",
      "6   g8                     not(g4)\n",
      "Fixing rate parameters to defaults\n",
      "Note: Simulated trajectories will be clustered. nClusters = 1\n",
      "test_boolode/simulations/ does not exist, creating it...\n",
      "Starting simulations\n",
      "Simulations took 2.429 s\n",
      "starting to concat files\n"
     ]
    },
    {
     "name": "stderr",
     "output_type": "stream",
     "text": [
      "100%|███████████████████████████████████████████| 10/10 [00:00<00:00, 28.80it/s]\n"
     ]
    },
    {
     "name": "stdout",
     "output_type": "stream",
     "text": [
      "Concating files took 0.35 s\n",
      "Starting k-means clustering\n",
      "Clustering simulations...\n",
      "Clustering took 0.009s\n",
      "Generating input files for pipline...\n",
      "1. refNetwork\n",
      "2. PseudoTime.csv\n",
      "3. ExpressionData.csv\n",
      "Input file generation took 0.20 s\n",
      "BoolODE.py took 3.02s\n",
      "all done.\n"
     ]
    }
   ],
   "source": [
    "grnkit.BoolODE.run_boolODE(\n",
    "    '../python/grnkit/data/sim_source/dyn-bifurcating.txt',\n",
    "    '../python/grnkit/data/sim_source/dyn-bifurcating_ics.txt',\n",
    "    'test_boolode', num_cells=10\n",
    ")"
   ]
  },
  {
   "cell_type": "code",
   "execution_count": null,
   "id": "58ce25e1-7f8c-4396-8da4-ac32f1e89575",
   "metadata": {},
   "outputs": [],
   "source": [
    "aaa = BoolODE.readBooleanRules('../data/dyn-bifurcating.txt', None)"
   ]
  },
  {
   "cell_type": "code",
   "execution_count": null,
   "id": "0b6d41e4-4818-4989-9c95-5f94a71f87df",
   "metadata": {},
   "outputs": [],
   "source": [
    "aaa[0]"
   ]
  },
  {
   "cell_type": "code",
   "execution_count": null,
   "id": "16a80b91-8372-4f50-8bd1-bca62502246c",
   "metadata": {},
   "outputs": [],
   "source": [
    "BoolODE.generateModelDict(aaa[0], )"
   ]
  },
  {
   "cell_type": "code",
   "execution_count": null,
   "id": "ef438234-ea13-4b27-850f-0ec4abbf1949",
   "metadata": {},
   "outputs": [],
   "source": [
    "from optparse import OptionParser\n"
   ]
  },
  {
   "cell_type": "code",
   "execution_count": null,
   "id": "0bb978c6-8520-4549-8d7b-c1d89142c585",
   "metadata": {},
   "outputs": [],
   "source": [
    "p = OptionParser()"
   ]
  },
  {
   "cell_type": "code",
   "execution_count": null,
   "id": "ffeeb272-596c-46a0-b426-bbfccca38d2c",
   "metadata": {},
   "outputs": [],
   "source": [
    "p.parse_args("
   ]
  },
  {
   "cell_type": "code",
   "execution_count": null,
   "id": "32003d2c-3cee-4834-beca-234c031c2ebb",
   "metadata": {},
   "outputs": [],
   "source": [
    "BoolODE.main([\n",
    "    \"--path\", \"../data/dyn-bifurcating.txt\", \n",
    "    \"--ics\", \"../data/dyn-bifurcating_ics.txt\", \n",
    "    \"--max-time\", \"20\", \n",
    "    \"--num-cells\", \"10\", \n",
    "    \"--outPrefix\", \"test\", \n",
    "    \"--do-parallel\"])"
   ]
  },
  {
   "cell_type": "code",
   "execution_count": null,
   "id": "0198391e-ad16-417e-87d6-167e8ef35624",
   "metadata": {},
   "outputs": [],
   "source": [
    "DF, withoutRules  = BoolODE.readBooleanRules('../data/dyn-bifurcating.txt', '')"
   ]
  },
  {
   "cell_type": "code",
   "execution_count": null,
   "id": "f69dde4f-8811-4628-8207-4e132371c18e",
   "metadata": {},
   "outputs": [],
   "source": [
    "ModelSpec, parameterInputs, genelist, \\\n",
    "    proteinlist, x_max = BoolODE.generateModelDict(\n",
    "    DF, identicalPars=False, samplePars=False, sampleStd=0.1, \n",
    "    withoutRules=withoutRules, speciesTypeDF=None, \n",
    "    parameterInputsDF=None, parameterSetDF=None, \n",
    "    interactionStrengthDF=None\n",
    ")"
   ]
  },
  {
   "cell_type": "code",
   "execution_count": null,
   "id": "809f6291-07c1-4a1f-b702-1fcc9e01b5a4",
   "metadata": {},
   "outputs": [],
   "source": [
    "ModelSpec['"
   ]
  },
  {
   "cell_type": "code",
   "execution_count": null,
   "id": "a7c7d972-c1fb-4afb-a3c2-c03f0d54595a",
   "metadata": {},
   "outputs": [],
   "source": [
    "class GKBoolODE:\n",
    "    \"\"\" Simplified ODE model based on BoolODE\n",
    "    \"\"\"\n",
    "    def __init__(self, path):\n",
    "        self.path = path\n",
    "        \n",
    "        DF, withoutRules = BoolODE.readBooleanRules(path, '', verbose=False)\n",
    "        ModelSpec, parameterInputs, genelist, \\\n",
    "            proteinlist, x_max = BoolODE.generateModelDict(\n",
    "            DF, identicalPars=False, samplePars=False, sampleStd=0.1, \n",
    "            withoutRules=withoutRules, speciesTypeDF=None, \n",
    "            parameterInputsDF=None, parameterSetDF=None, \n",
    "            interactionStrengthDF=None\n",
    "        )\n",
    "        \n",
    "        self.ModelSpec = ModelSpec\n",
    "        self.genelist = genelist\n",
    "        self.x_max = x_max\n",
    "        self.varmapper = {i:var for i,var in enumerate(\n",
    "            ModelSpec['varspecs'].keys())}\n",
    "        self.parmapper = {i:par for i,par in enumerate(\n",
    "            ModelSpec['pars'].keys())} \n",
    "        \n",
    "    "
   ]
  },
  {
   "cell_type": "code",
   "execution_count": null,
   "id": "2eeb1e71-3c57-495f-a8fd-7094659ebb0b",
   "metadata": {},
   "outputs": [],
   "source": [
    "GKBoolODE('../data/dyn-bifurcating.txt')"
   ]
  },
  {
   "cell_type": "code",
   "execution_count": null,
   "id": "1ca304ae-51d0-4a64-8c71-ae0167c7d6b3",
   "metadata": {},
   "outputs": [],
   "source": []
  }
 ],
 "metadata": {
  "kernelspec": {
   "display_name": "grn",
   "language": "python",
   "name": "grn"
  },
  "language_info": {
   "codemirror_mode": {
    "name": "ipython",
    "version": 3
   },
   "file_extension": ".py",
   "mimetype": "text/x-python",
   "name": "python",
   "nbconvert_exporter": "python",
   "pygments_lexer": "ipython3",
   "version": "3.10.4"
  }
 },
 "nbformat": 4,
 "nbformat_minor": 5
}

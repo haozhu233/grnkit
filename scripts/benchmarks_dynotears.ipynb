{
 "cells": [
  {
   "cell_type": "code",
   "execution_count": 1,
   "id": "a8a83769-d17b-4a68-8416-53708eebdd61",
   "metadata": {},
   "outputs": [],
   "source": [
    "from grnkit.data import Dream4MultifactorialDataset, Dream4TimeseriesDataset\n",
    "from grnkit.evaluate import evaluate\n",
    "from grnkit.ss.notears import notears_linear\n",
    "import numpy as np"
   ]
  },
  {
   "cell_type": "code",
   "execution_count": 2,
   "id": "cc176b21-0bc1-450f-b16a-2c40c3aa4d7e",
   "metadata": {},
   "outputs": [
    {
     "name": "stderr",
     "output_type": "stream",
     "text": [
      "/data/h/miniconda3/envs/causalnex/lib/python3.8/site-packages/tqdm/auto.py:22: TqdmWarning: IProgress not found. Please update jupyter and ipywidgets. See https://ipywidgets.readthedocs.io/en/stable/user_install.html\n",
      "  from .autonotebook import tqdm as notebook_tqdm\n"
     ]
    }
   ],
   "source": [
    "from causalnex.structure import dynotears\n",
    "import pandas as pd"
   ]
  },
  {
   "cell_type": "code",
   "execution_count": 23,
   "id": "e40c39b1-3d7b-4aae-8325-83f52a4e43b9",
   "metadata": {},
   "outputs": [
    {
     "name": "stdout",
     "output_type": "stream",
     "text": [
      "===========================================\n",
      "Evaluating on Dream4 timeseries size 100 network 1\n",
      "AUROC:0.5645   AUPRC:0.1335\n",
      "===========================================\n",
      "Evaluating on Dream4 timeseries size 100 network 2\n",
      "AUROC:0.5096   AUPRC:0.0584\n",
      "===========================================\n",
      "Evaluating on Dream4 timeseries size 100 network 3\n",
      "AUROC:0.5169   AUPRC:0.0618\n",
      "===========================================\n",
      "Evaluating on Dream4 timeseries size 100 network 4\n",
      "AUROC:0.5108   AUPRC:0.0538\n",
      "===========================================\n",
      "Evaluating on Dream4 timeseries size 100 network 5\n",
      "AUROC:0.5068   AUPRC:0.0426\n"
     ]
    }
   ],
   "source": [
    "dream4_timeseries_s100_dynotears = []\n",
    "for i in [1, 2, 3, 4, 5]:\n",
    "    print(\"===========================================\")\n",
    "    print(\"Evaluating on Dream4 timeseries size 100 network \" + str(i))\n",
    "    dt = Dream4TimeseriesDataset(size=100, network=i)\n",
    "    input_pds = []\n",
    "    for i in range(dt.n_ts):\n",
    "        ts_df = pd.DataFrame(dt.expression_data[i])\n",
    "        ts_df.index = dt.time_stamps[0].astype(int) // 50\n",
    "        ts_df.columns = ['G' + str(j+1) for j in range(ts_df.shape[1])]\n",
    "        input_pds.append(ts_df)\n",
    "    fitted_graphs = dynotears.from_pandas_dynamic(input_pds, 2, lambda_w=0.05, lambda_a=0.05)\n",
    "\n",
    "    y_pred = [0] * (dt.number_of_genes ** 2)\n",
    "    for edge in fitted_graphs.edges:\n",
    "        y_pred[dt.interaction_dict[edge[0].split('_')[0] + '|' + edge[1].split('_')[0]]] = 1\n",
    "    dream4_timeseries_s100_dynotears.append(evaluate(dt.gold_standard, y_pred))"
   ]
  },
  {
   "cell_type": "code",
   "execution_count": null,
   "id": "ff77edba-f334-48fc-8d8e-d7dc75656e22",
   "metadata": {},
   "outputs": [],
   "source": []
  }
 ],
 "metadata": {
  "kernelspec": {
   "display_name": "grn",
   "language": "python",
   "name": "grn"
  },
  "language_info": {
   "codemirror_mode": {
    "name": "ipython",
    "version": 3
   },
   "file_extension": ".py",
   "mimetype": "text/x-python",
   "name": "python",
   "nbconvert_exporter": "python",
   "pygments_lexer": "ipython3",
   "version": "3.10.4"
  }
 },
 "nbformat": 4,
 "nbformat_minor": 5
}
